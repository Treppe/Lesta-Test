{
 "cells": [
  {
   "cell_type": "code",
   "execution_count": 1,
   "id": "3a390d5a",
   "metadata": {},
   "outputs": [
    {
     "name": "stderr",
     "output_type": "stream",
     "text": [
      "/home/egor/anaconda3/envs/lesta/lib/python3.9/site-packages/scipy/__init__.py:146: UserWarning: A NumPy version >=1.16.5 and <1.23.0 is required for this version of SciPy (detected version 1.23.1\n",
      "  warnings.warn(f\"A NumPy version >={np_minversion} and <{np_maxversion}\"\n"
     ]
    }
   ],
   "source": [
    "from math import comb\n",
    "\n",
    "import pandas as pd\n",
    "import numpy as np\n",
    "import numpy.polynomial.polynomial as poly\n",
    "import matplotlib.pyplot as plt\n",
    "from scipy.stats import norm"
   ]
  },
  {
   "cell_type": "markdown",
   "id": "f23aa457",
   "metadata": {},
   "source": [
    "# Краткие ответы"
   ]
  },
  {
   "cell_type": "markdown",
   "id": "21d4e7b1",
   "metadata": {},
   "source": [
    "## Задача 1 - Работа с распределением \n",
    "1. Среднее: 31.75, медиана: 30.68\n",
    "2. 77% игроков\n",
    "3. 61 бой\n",
    "4. 68 боёв\n",
    "5. 47 боёв\n",
    "\n",
    "## Задача 2 - Контейнеры\n",
    "1. Рассуждения и попытка аналитического решения. Ответ не нашел\n",
    "2. Аналитическое решение:\n",
    "\n",
    "    Вероятность получения одного героя:\n",
    "$$\n",
    "        P(1) = C^1_{15}p_h(1- p_h)^{14}\n",
    "$$\n",
    "    Вероятность получения двух героев:\n",
    "$$\n",
    "        P(2) = C^2_{15}p_h^2(1- p_h)^{13}\n",
    "$$\n",
    "    Вероятность получения трех героев:\n",
    "$$\n",
    "        P(3) = C^3_{15}p_h^3(1- p_h)^{12}\n",
    "$$\n",
    "    Вероятность получения четырех героев:\n",
    "$$\n",
    "        P(4) = C^4_{15}p_h^4(1- p_h)^{11}\n",
    "$$\n",
    "    Вероятность, что ни одного героя не будет получено\n",
    "$$\n",
    "    P(0) = C^0_{15}(1- p_h)^{15} = (1- p_h)^{15}\n",
    "$$"
   ]
  },
  {
   "cell_type": "markdown",
   "id": "5058cada",
   "metadata": {},
   "source": [
    "# Задача 1 "
   ]
  },
  {
   "cell_type": "markdown",
   "id": "90271196",
   "metadata": {},
   "source": [
    "Дано распределение игроков некоторой игры по количеству боев за месяц (учитываются только игроки, проведшие хотя бы 1 бой за месяц, первый столбец, например, показывает, что 544 игрока сыграли за месяц от 1 до 3 боев, считаем, что игроков, проведших более 100 боев не было)"
   ]
  },
  {
   "cell_type": "markdown",
   "id": "ada95f8e",
   "metadata": {},
   "source": [
    "## 1.1 Оцените среднее число боев, приходящееся на одного игрока в месяц и медиану числа боев, приходящегося на одного игрока"
   ]
  },
  {
   "cell_type": "markdown",
   "id": "89fbab89",
   "metadata": {},
   "source": [
    "### Решение"
   ]
  },
  {
   "cell_type": "markdown",
   "id": "f59045d0",
   "metadata": {},
   "source": [
    "Задача сводится к оценке среднего значения и медианы группового распределения частот.\n",
    "\n",
    "1. Среднее значение считается по формуле:\n",
    "$$\n",
    "    Mean = \\frac{\\sum f \\cdot m}{\\sum f} \\mbox{, где} \\\\\n",
    "    \\mbox{m - это середины заданных интервалов и} \\\\\n",
    "    \\mbox{f - частота (кол-во игроков) на интервале}\n",
    "$$\n",
    "    \n",
    "    Значения $f$ - известны, значения $m$ считаются, как среднее нижней и верхней границы интервала:\n",
    "$$\n",
    "    m = \\frac{a + b}{2}\\mbox{, где}\\\\\n",
    "    \\mbox{a и b - нижняя и верхняя границы интервала соответственно}\n",
    "$$\n",
    "\n",
    "    Код ниже считает $m$ для каждого интервала"
   ]
  },
  {
   "cell_type": "code",
   "execution_count": 2,
   "id": "f2df5b9f",
   "metadata": {},
   "outputs": [
    {
     "data": {
      "text/html": [
       "<div>\n",
       "<style scoped>\n",
       "    .dataframe tbody tr th:only-of-type {\n",
       "        vertical-align: middle;\n",
       "    }\n",
       "\n",
       "    .dataframe tbody tr th {\n",
       "        vertical-align: top;\n",
       "    }\n",
       "\n",
       "    .dataframe thead th {\n",
       "        text-align: right;\n",
       "    }\n",
       "</style>\n",
       "<table border=\"1\" class=\"dataframe\">\n",
       "  <thead>\n",
       "    <tr style=\"text-align: right;\">\n",
       "      <th></th>\n",
       "      <th>Число боев</th>\n",
       "      <th>Число игроков, f</th>\n",
       "      <th>Середина интервала, m</th>\n",
       "    </tr>\n",
       "  </thead>\n",
       "  <tbody>\n",
       "    <tr>\n",
       "      <th>0</th>\n",
       "      <td>1-3</td>\n",
       "      <td>533</td>\n",
       "      <td>2.0</td>\n",
       "    </tr>\n",
       "    <tr>\n",
       "      <th>1</th>\n",
       "      <td>4-10</td>\n",
       "      <td>689</td>\n",
       "      <td>7.0</td>\n",
       "    </tr>\n",
       "    <tr>\n",
       "      <th>2</th>\n",
       "      <td>11-20</td>\n",
       "      <td>1165</td>\n",
       "      <td>15.5</td>\n",
       "    </tr>\n",
       "    <tr>\n",
       "      <th>3</th>\n",
       "      <td>21-30</td>\n",
       "      <td>1354</td>\n",
       "      <td>25.5</td>\n",
       "    </tr>\n",
       "    <tr>\n",
       "      <th>4</th>\n",
       "      <td>31-40</td>\n",
       "      <td>1104</td>\n",
       "      <td>35.5</td>\n",
       "    </tr>\n",
       "    <tr>\n",
       "      <th>5</th>\n",
       "      <td>41-50</td>\n",
       "      <td>921</td>\n",
       "      <td>45.5</td>\n",
       "    </tr>\n",
       "    <tr>\n",
       "      <th>6</th>\n",
       "      <td>51-75</td>\n",
       "      <td>537</td>\n",
       "      <td>63.0</td>\n",
       "    </tr>\n",
       "    <tr>\n",
       "      <th>7</th>\n",
       "      <td>76-100</td>\n",
       "      <td>475</td>\n",
       "      <td>88.0</td>\n",
       "    </tr>\n",
       "  </tbody>\n",
       "</table>\n",
       "</div>"
      ],
      "text/plain": [
       "  Число боев  Число игроков, f  Середина интервала, m\n",
       "0        1-3               533                    2.0\n",
       "1       4-10               689                    7.0\n",
       "2      11-20              1165                   15.5\n",
       "3      21-30              1354                   25.5\n",
       "4      31-40              1104                   35.5\n",
       "5      41-50               921                   45.5\n",
       "6      51-75               537                   63.0\n",
       "7     76-100               475                   88.0"
      ]
     },
     "execution_count": 2,
     "metadata": {},
     "output_type": "execute_result"
    }
   ],
   "source": [
    "# Начальные условия\n",
    "solution_dict = {\"Число боев\": [\"1-3\", \"4-10\", \n",
    "                                \"11-20\", \"21-30\", \n",
    "                                \"31-40\", \"41-50\",\n",
    "                                \"51-75\", \"76-100\"],\n",
    "                \"Число игроков, f\": [533, 689, \n",
    "                                  1165, 1354, \n",
    "                                  1104, 921, \n",
    "                                  537, 475]}\n",
    "\n",
    "# Добавим m\n",
    "ranges = [(1, 3), (4, 10),     # интервалы в численном виде\n",
    "          (11, 20), (21, 30), \n",
    "          (31, 40), (41, 50), \n",
    "          (51, 75), (76, 100)] \n",
    "m_values = [(a + b) / 2 for a, b in ranges]\n",
    "solution_dict[\"Середина интервала, m\"] = m_values\n",
    "\n",
    "# Выводим результаты в таблцу\n",
    "pd.DataFrame(solution_dict)"
   ]
  },
  {
   "cell_type": "markdown",
   "id": "65723713",
   "metadata": {},
   "source": [
    "   **Теперь можно посчитать среднее**"
   ]
  },
  {
   "cell_type": "code",
   "execution_count": 3,
   "id": "8576245b",
   "metadata": {},
   "outputs": [
    {
     "name": "stdout",
     "output_type": "stream",
     "text": [
      "Среднее число боев на одного игрока: 31.75007376807318\n"
     ]
    },
    {
     "data": {
      "text/html": [
       "<div>\n",
       "<style scoped>\n",
       "    .dataframe tbody tr th:only-of-type {\n",
       "        vertical-align: middle;\n",
       "    }\n",
       "\n",
       "    .dataframe tbody tr th {\n",
       "        vertical-align: top;\n",
       "    }\n",
       "\n",
       "    .dataframe thead th {\n",
       "        text-align: right;\n",
       "    }\n",
       "</style>\n",
       "<table border=\"1\" class=\"dataframe\">\n",
       "  <thead>\n",
       "    <tr style=\"text-align: right;\">\n",
       "      <th></th>\n",
       "      <th>Число боев</th>\n",
       "      <th>Число игроков, f</th>\n",
       "      <th>Середина интервала, m</th>\n",
       "      <th>f * m</th>\n",
       "    </tr>\n",
       "  </thead>\n",
       "  <tbody>\n",
       "    <tr>\n",
       "      <th>0</th>\n",
       "      <td>1-3</td>\n",
       "      <td>533</td>\n",
       "      <td>2.0</td>\n",
       "      <td>1066.0</td>\n",
       "    </tr>\n",
       "    <tr>\n",
       "      <th>1</th>\n",
       "      <td>4-10</td>\n",
       "      <td>689</td>\n",
       "      <td>7.0</td>\n",
       "      <td>4823.0</td>\n",
       "    </tr>\n",
       "    <tr>\n",
       "      <th>2</th>\n",
       "      <td>11-20</td>\n",
       "      <td>1165</td>\n",
       "      <td>15.5</td>\n",
       "      <td>18057.5</td>\n",
       "    </tr>\n",
       "    <tr>\n",
       "      <th>3</th>\n",
       "      <td>21-30</td>\n",
       "      <td>1354</td>\n",
       "      <td>25.5</td>\n",
       "      <td>34527.0</td>\n",
       "    </tr>\n",
       "    <tr>\n",
       "      <th>4</th>\n",
       "      <td>31-40</td>\n",
       "      <td>1104</td>\n",
       "      <td>35.5</td>\n",
       "      <td>39192.0</td>\n",
       "    </tr>\n",
       "    <tr>\n",
       "      <th>5</th>\n",
       "      <td>41-50</td>\n",
       "      <td>921</td>\n",
       "      <td>45.5</td>\n",
       "      <td>41905.5</td>\n",
       "    </tr>\n",
       "    <tr>\n",
       "      <th>6</th>\n",
       "      <td>51-75</td>\n",
       "      <td>537</td>\n",
       "      <td>63.0</td>\n",
       "      <td>33831.0</td>\n",
       "    </tr>\n",
       "    <tr>\n",
       "      <th>7</th>\n",
       "      <td>76-100</td>\n",
       "      <td>475</td>\n",
       "      <td>88.0</td>\n",
       "      <td>41800.0</td>\n",
       "    </tr>\n",
       "  </tbody>\n",
       "</table>\n",
       "</div>"
      ],
      "text/plain": [
       "  Число боев  Число игроков, f  Середина интервала, m    f * m\n",
       "0        1-3               533                    2.0   1066.0\n",
       "1       4-10               689                    7.0   4823.0\n",
       "2      11-20              1165                   15.5  18057.5\n",
       "3      21-30              1354                   25.5  34527.0\n",
       "4      31-40              1104                   35.5  39192.0\n",
       "5      41-50               921                   45.5  41905.5\n",
       "6      51-75               537                   63.0  33831.0\n",
       "7     76-100               475                   88.0  41800.0"
      ]
     },
     "execution_count": 3,
     "metadata": {},
     "output_type": "execute_result"
    }
   ],
   "source": [
    "f = solution_dict[\"Число игроков, f\"]\n",
    "m = solution_dict[\"Середина интервала, m\"]\n",
    "cross_list = list(zip(f,m))\n",
    "products = [f_i * m_i for f_i, m_i in cross_list]\n",
    "solution_dict[\"f * m\"] = products\n",
    "sum_of_products = sum(products)\n",
    "mean =  sum_of_products / sum(f)\n",
    "print(f\"Среднее число боев на одного игрока: {mean}\")\n",
    "pd.DataFrame(solution_dict)"
   ]
  },
  {
   "cell_type": "markdown",
   "id": "58ed6fcb",
   "metadata": {},
   "source": [
    "2. Чтобы найти медиану числа боев, сначала надо найти интервал, в котором заключена медиана. Необходимо айти в выборке такой интервал числа боев, для которго все интервалы до будут включать в себя половину игроков, которые сыграли меньше боев, а интервалы после - половину, которая сыграла больше. \n",
    "\n",
    "    Вычислим половину от общего числа игроков выборке:"
   ]
  },
  {
   "cell_type": "code",
   "execution_count": 4,
   "id": "4e7cb372",
   "metadata": {},
   "outputs": [
    {
     "name": "stdout",
     "output_type": "stream",
     "text": [
      "3389.0\n"
     ]
    }
   ],
   "source": [
    "players_sum = sum(f)\n",
    "players_half = players_sum / 2\n",
    "print(players_half)"
   ]
  },
  {
   "cell_type": "markdown",
   "id": "7a067ae2",
   "metadata": {},
   "source": [
    "    Составим таблицу порядковых номеров игроков, которые содержит каждый интервал, указывая номер последнего игрока в интервале (кумулятивные частоты интервала):"
   ]
  },
  {
   "cell_type": "code",
   "execution_count": 5,
   "id": "a652a3ba",
   "metadata": {},
   "outputs": [
    {
     "data": {
      "text/html": [
       "<div>\n",
       "<style scoped>\n",
       "    .dataframe tbody tr th:only-of-type {\n",
       "        vertical-align: middle;\n",
       "    }\n",
       "\n",
       "    .dataframe tbody tr th {\n",
       "        vertical-align: top;\n",
       "    }\n",
       "\n",
       "    .dataframe thead th {\n",
       "        text-align: right;\n",
       "    }\n",
       "</style>\n",
       "<table border=\"1\" class=\"dataframe\">\n",
       "  <thead>\n",
       "    <tr style=\"text-align: right;\">\n",
       "      <th></th>\n",
       "      <th>Число боев</th>\n",
       "      <th>Число игроков, f</th>\n",
       "      <th>Середина интервала, m</th>\n",
       "      <th>f * m</th>\n",
       "      <th>Содержит игроков до №</th>\n",
       "    </tr>\n",
       "  </thead>\n",
       "  <tbody>\n",
       "    <tr>\n",
       "      <th>0</th>\n",
       "      <td>1-3</td>\n",
       "      <td>533</td>\n",
       "      <td>2.0</td>\n",
       "      <td>1066.0</td>\n",
       "      <td>533</td>\n",
       "    </tr>\n",
       "    <tr>\n",
       "      <th>1</th>\n",
       "      <td>4-10</td>\n",
       "      <td>689</td>\n",
       "      <td>7.0</td>\n",
       "      <td>4823.0</td>\n",
       "      <td>1222</td>\n",
       "    </tr>\n",
       "    <tr>\n",
       "      <th>2</th>\n",
       "      <td>11-20</td>\n",
       "      <td>1165</td>\n",
       "      <td>15.5</td>\n",
       "      <td>18057.5</td>\n",
       "      <td>2387</td>\n",
       "    </tr>\n",
       "    <tr>\n",
       "      <th>3</th>\n",
       "      <td>21-30</td>\n",
       "      <td>1354</td>\n",
       "      <td>25.5</td>\n",
       "      <td>34527.0</td>\n",
       "      <td>3741</td>\n",
       "    </tr>\n",
       "    <tr>\n",
       "      <th>4</th>\n",
       "      <td>31-40</td>\n",
       "      <td>1104</td>\n",
       "      <td>35.5</td>\n",
       "      <td>39192.0</td>\n",
       "      <td>4845</td>\n",
       "    </tr>\n",
       "    <tr>\n",
       "      <th>5</th>\n",
       "      <td>41-50</td>\n",
       "      <td>921</td>\n",
       "      <td>45.5</td>\n",
       "      <td>41905.5</td>\n",
       "      <td>5766</td>\n",
       "    </tr>\n",
       "    <tr>\n",
       "      <th>6</th>\n",
       "      <td>51-75</td>\n",
       "      <td>537</td>\n",
       "      <td>63.0</td>\n",
       "      <td>33831.0</td>\n",
       "      <td>6303</td>\n",
       "    </tr>\n",
       "    <tr>\n",
       "      <th>7</th>\n",
       "      <td>76-100</td>\n",
       "      <td>475</td>\n",
       "      <td>88.0</td>\n",
       "      <td>41800.0</td>\n",
       "      <td>6778</td>\n",
       "    </tr>\n",
       "  </tbody>\n",
       "</table>\n",
       "</div>"
      ],
      "text/plain": [
       "  Число боев  Число игроков, f  Середина интервала, m    f * m  \\\n",
       "0        1-3               533                    2.0   1066.0   \n",
       "1       4-10               689                    7.0   4823.0   \n",
       "2      11-20              1165                   15.5  18057.5   \n",
       "3      21-30              1354                   25.5  34527.0   \n",
       "4      31-40              1104                   35.5  39192.0   \n",
       "5      41-50               921                   45.5  41905.5   \n",
       "6      51-75               537                   63.0  33831.0   \n",
       "7     76-100               475                   88.0  41800.0   \n",
       "\n",
       "   Содержит игроков до №  \n",
       "0                    533  \n",
       "1                   1222  \n",
       "2                   2387  \n",
       "3                   3741  \n",
       "4                   4845  \n",
       "5                   5766  \n",
       "6                   6303  \n",
       "7                   6778  "
      ]
     },
     "execution_count": 5,
     "metadata": {},
     "output_type": "execute_result"
    }
   ],
   "source": [
    "players_num = [f[0]]\n",
    "for freq in f[1:]:\n",
    "    players_num.append(freq + players_num[-1])\n",
    "solution_dict[\"Содержит игроков до №\"] = players_num\n",
    "pd.DataFrame(solution_dict)"
   ]
  },
  {
   "cell_type": "markdown",
   "id": "0be6e444",
   "metadata": {},
   "source": [
    "    В интервале 31-40 лежат игроки с номерами 3742 - 4845. Там же лежит и половина от общего числа игроков: 3389. Теперь из найденного интервала можно оценить медиану. \n",
    "    \n",
    "    Медиана оценивается по формуле:\n",
    "$$\n",
    "    Median = a + \\frac{(n/2) - B}{G}\\mbox{, где}\\\\\n",
    "    \\mbox{n - общее число игроков}\\\\\n",
    "    \\mbox{B - кумулитивная частота интервала, предшествующего найденому}\\\\\n",
    "    \\mbox{G - частота найденного интервала}\\\\\n",
    "    \\mbox{W - ширина группы, (b - a)}\\\\\n",
    "$$\n",
    "\n",
    "**Оценка медианы:**"
   ]
  },
  {
   "cell_type": "code",
   "execution_count": 6,
   "id": "ae4d420c",
   "metadata": {},
   "outputs": [
    {
     "data": {
      "text/plain": [
       "30.681159420289855"
      ]
     },
     "execution_count": 6,
     "metadata": {},
     "output_type": "execute_result"
    }
   ],
   "source": [
    "median_idx = 4\n",
    "B = solution_dict[\"Содержит игроков до №\"][median_idx - 1]\n",
    "G = f[median_idx]\n",
    "a, b = ranges[median_idx]\n",
    "W = b - a\n",
    "\n",
    "median = a + ((players_sum / 2) - B) / G\n",
    "median"
   ]
  },
  {
   "cell_type": "markdown",
   "id": "700b780d",
   "metadata": {},
   "source": [
    "## 1.2 Оцените, какая доля игроков провела 15 и более боев за месяц"
   ]
  },
  {
   "cell_type": "markdown",
   "id": "f6a76a0b",
   "metadata": {},
   "source": [
    "### Решение"
   ]
  },
  {
   "cell_type": "markdown",
   "id": "af468da6",
   "metadata": {},
   "source": [
    "1. Для оценки допустим, что частоты число игроков распределено по нормальному закону. Чтобы дать оцнку доли игроков, необходимо задать параметры распределения $a$ и $\\sigma$. \n",
    "\n",
    "    Параметр $a$ - это среднее число боев, приходящееся на одного игрока. Из предыдущего задания мы знаем, что $a = 31.75$\n",
    "    \n",
    "    $\\sigma$ - среднеквадратичное отклонение, которе для данного группового распределения частот будет считаться по формуле:\n",
    "    \n",
    "$$\n",
    "    \\sigma = \\sqrt{\\frac{\\sum m^2 f}{n} - \\left(\\frac{\\sum fm}{n}\\right)^2}\n",
    "$$\n",
    "\n",
    "    Все необходимые значения уже были посчитаны в предыдущем задании, осталось их только подставить в формулу:"
   ]
  },
  {
   "cell_type": "code",
   "execution_count": 7,
   "id": "d5e2684c",
   "metadata": {},
   "outputs": [
    {
     "data": {
      "text/plain": [
       "22.630600687641792"
      ]
     },
     "execution_count": 7,
     "metadata": {},
     "output_type": "execute_result"
    }
   ],
   "source": [
    "products_squares = [m * m * f for f, m in cross_list]\n",
    "mean_squares = sum(products_squares) / players_sum\n",
    "mean_squared = (sum_of_products / players_sum)**2\n",
    "sigma = np.sqrt(mean_squares - mean_squared)\n",
    "sigma"
   ]
  },
  {
   "cell_type": "markdown",
   "id": "17991a1f",
   "metadata": {},
   "source": [
    "2. Используем модель нормального распределения из scipy.stats и подставим в неё параметры $a$ и $\\sigma$. Затем для полученной модели **посчитаем долю игроков, которая провела 15 и более боев за месяц**"
   ]
  },
  {
   "cell_type": "code",
   "execution_count": 8,
   "id": "aa452c76",
   "metadata": {},
   "outputs": [
    {
     "data": {
      "text/plain": [
       "0.7703959734295673"
      ]
     },
     "execution_count": 8,
     "metadata": {},
     "output_type": "execute_result"
    }
   ],
   "source": [
    "target_num = 15\n",
    "\n",
    "distribution = norm(mean, sigma)\n",
    "less_then_target = distribution.cdf(target_num)\n",
    "more_then_target = 1 - less_then_target\n",
    "more_then_target"
   ]
  },
  {
   "cell_type": "markdown",
   "id": "509c40e1",
   "metadata": {},
   "source": [
    "### 1.3 Оцените, какое число боев может быть достаточным для акции?"
   ]
  },
  {
   "cell_type": "markdown",
   "id": "33c3ba87",
   "metadata": {},
   "source": [
    "**Описание акции:** Допустим, мы хотим сделать в игре событие длиной в месяц на получение ценной награды за проведенные бои и хотим сделать так, чтобы эту награду получили не более 10% наиболее активных (по числу боев) игроков. \n",
    "\n",
    "**Примечание:** При оценке стоит учесть, что значительно сокращать число игроков, прошедших событие полностью относительно целевых 10% считаем нежелательным."
   ]
  },
  {
   "cell_type": "markdown",
   "id": "79129939",
   "metadata": {},
   "source": [
    "### Решение"
   ]
  },
  {
   "cell_type": "markdown",
   "id": "f17c9af6",
   "metadata": {},
   "source": [
    "Задача обратная предыдущей - нам известно доля игроков, и теперь мы ищем число боев. Для решения используется обратная функция стандартного нормального распределения (преобразовывающая нормальную вероятность р в нормальное значение z)"
   ]
  },
  {
   "cell_type": "code",
   "execution_count": 9,
   "id": "d1aadd5d",
   "metadata": {},
   "outputs": [
    {
     "data": {
      "text/plain": [
       "60.75235550853523"
      ]
     },
     "execution_count": 9,
     "metadata": {},
     "output_type": "execute_result"
    }
   ],
   "source": [
    "target_fraction = 0.1\n",
    "reverse_fraction = 1 - target_fraction\n",
    "target_num_of_games = distribution.ppf(reverse_fraction)\n",
    "target_num_of_games"
   ]
  },
  {
   "cell_type": "markdown",
   "id": "9e3d6dfd",
   "metadata": {},
   "source": [
    "Т.к. по условию событие должны проийти *не более* 10% игроков, округляем посчитанное значение в большую сторону. **Для получения награды игрок должен сыграть 61+ бой за месяц.**"
   ]
  },
  {
   "cell_type": "markdown",
   "id": "d6f66b0d",
   "metadata": {},
   "source": [
    "## 1.4 . Как изменится ответ на задание 1.3 с учетом допущения?\n",
    "**Допущение:** Предположим, что награда достаточно ценна для того, чтобы игроки увеличили свое число боев в месяц на 20%. "
   ]
  },
  {
   "cell_type": "markdown",
   "id": "73b53ec0",
   "metadata": {},
   "source": [
    "### Решение"
   ]
  },
  {
   "cell_type": "markdown",
   "id": "405129d8",
   "metadata": {},
   "source": [
    "Внесём изменения в нашу предыдущую модель. Увеличения число боев в месяц на 20% приведет к смещению среднего рампределения на те же 20%. Дисперсия/среднеквадратичное отклонение при этом остаётся неизменным"
   ]
  },
  {
   "cell_type": "code",
   "execution_count": 10,
   "id": "406669cc",
   "metadata": {},
   "outputs": [
    {
     "data": {
      "text/plain": [
       "67.10237026214986"
      ]
     },
     "execution_count": 10,
     "metadata": {},
     "output_type": "execute_result"
    }
   ],
   "source": [
    "inc = 0.2\n",
    "mean_hypo = (1 + inc)* mean\n",
    "distribution_hypo = norm(mean_hypo, sigma)\n",
    "target_num_of_games_hypo = distribution_hypo.ppf(reverse_fraction)\n",
    "target_num_of_games_hypo"
   ]
  },
  {
   "cell_type": "markdown",
   "id": "a76d0cd8",
   "metadata": {},
   "source": [
    "Как и в прошлый раз, округляем в большую торону: **68+ боёв должен сыграть игрок для получения награды**."
   ]
  },
  {
   "cell_type": "markdown",
   "id": "b84dc1a6",
   "metadata": {},
   "source": [
    "## 1.5 Если событие из пункта 1.3 будет длиться 2 недели, а не месяц, как может измениться требуемое число боев?"
   ]
  },
  {
   "cell_type": "markdown",
   "id": "b9667528",
   "metadata": {},
   "source": [
    "## Решение"
   ]
  },
  {
   "cell_type": "markdown",
   "id": "8ce52ca4",
   "metadata": {},
   "source": [
    "**Допущение:** сокращение длительности до 2-х недель равносильно, сокращению длительности события в 2 раза (месяц - 28 дней) \n",
    "\n",
    "Предположим, что, уменьшив длительность события, уменьшается и разброс распределения игроков по группам числа боёв. Иными словами: среднеквадратическое отклонения уменьшилось в 2 раза (среднее остается тем же).  \n",
    "\n",
    "Решим задачу 1.3 для модели с новыми параметрами:"
   ]
  },
  {
   "cell_type": "code",
   "execution_count": 11,
   "id": "cb5ee255",
   "metadata": {},
   "outputs": [
    {
     "data": {
      "text/plain": [
       "46.251214638304205"
      ]
     },
     "execution_count": 11,
     "metadata": {},
     "output_type": "execute_result"
    }
   ],
   "source": [
    "new_sigma = sigma / 2\n",
    "new_distribution = norm(mean, new_sigma)\n",
    "new_target_num_of_games = new_distribution.ppf(reverse_fraction)\n",
    "new_target_num_of_games"
   ]
  },
  {
   "cell_type": "markdown",
   "id": "f533b230",
   "metadata": {},
   "source": [
    "Округляем в большую сторону: **47+ боёв должен сыграть игрок для получения награды**."
   ]
  },
  {
   "cell_type": "markdown",
   "id": "9ba841e3",
   "metadata": {},
   "source": [
    "# Задача 2"
   ]
  },
  {
   "cell_type": "markdown",
   "id": "f3ae3e88",
   "metadata": {},
   "source": [
    "## 2.1 Чему должна быть равна вероятность получения категории героев?\n",
    "**Условие:** Cредняя цена получения героя через контейнеры равна цене прямой покупки героя"
   ]
  },
  {
   "cell_type": "markdown",
   "id": "1da813a8",
   "metadata": {},
   "source": [
    "### Решение (аналитиеское, неполное)\n",
    "Представим, что каждый раз, покупая котнейнер, игрок приобретает *часть* целевого героя $A$. Тогда, взяв в расчёт стоимости покупки героя $h = 5500$ и контейнера $c = 1000$, мы можем расчитать желаемую вероятность выпадения именно этого героя, как отношение:\n",
    "\n",
    "$$\n",
    "    P(A) = \\frac{c}{h} = \\frac{1000}{5500} = \\frac{2}{11}\n",
    "$$"
   ]
  },
  {
   "cell_type": "markdown",
   "id": "884bb306",
   "metadata": {},
   "source": [
    "Это желаемая вероятность выпадения героя $A$. Другой способ вычислить эту же вероятность - рассмотреть её, как сумму вероятностей 3-х сценариев выпадения категории героя по биноминальному закону с параметрами $n=\\mbox{от 2 до 4}$, $m=11$, $p=x$, $q=1-x$ с последующим вытаскиванием героя $A$. Формулы вероятностей для каждого из сценариев:\n",
    "1. 2 выпадения категории героев, вытащил: $AA$:\n",
    "$$\n",
    "    P_1(A) = C^2_{11}x^2q^9\\cdot\\frac{1}{4}\\cdot\\frac{1}{3}\n",
    "$$\n",
    "2. 3 выпадения категории героев, вытащил: $\\bar{A}AA$:\n",
    "$$\n",
    "   P_2(A) = C^3_{11}x^3q^8\\cdot\\frac{3}{4}\\cdot\\frac{1}{3}\\cdot\\frac{1}{2}\n",
    "$$\n",
    "2. 4 выпадения категории героев, вытащил: $\\bar{A}\\bar{A}AA$:\n",
    "$$\n",
    "   P_3(A) = C^4_{11}x^4q^7\\cdot\\frac{3}{4}\\cdot\\frac{2}{3}\\cdot\\frac{1}{2}\\cdot1\n",
    "$$\n",
    "\n",
    "Сумма этих вероятностей даёт вероятность выпадения героя $A$. Запишем эту сумму, выразив q через x и подставив значение $P(A)$:\n",
    "$$\n",
    "    P(A) = P_1(A) + P_2(A) + P_3(A) =  C^2_{11}x^2(1 - x)^9\\cdot\\frac{1}{4}\\cdot\\frac{1}{3} + \n",
    "    C^3_{11}x^3(1- x)^8\\cdot\\frac{3}{4}\\cdot\\frac{1}{3}\\cdot\\frac{1}{2} + \n",
    "    C^4_{11}x^4(1- x)^7\\cdot\\frac{3}{4}\\cdot\\frac{2}{3}\\cdot\\frac{1}{2}\\cdot1 = \\frac{2}{11}\n",
    "$$\n",
    "\n",
    "Если в полученном уравнении раскрыть все скобки и перенести свободный коэффициент через знак равенства, то мы получим полином 13 степени, корни которого можно попытаться вычислить, используя численные методы. \n",
    "\n",
    "Я попробовал так сделать - у меня не получилось, не нашёл реальных корней (если интересно, см. код ниже).\n",
    "\n",
    "***Если у этой задачи есть другое/правильное решение, то мне оно пока неизвестно. Но я пытался :)***"
   ]
  },
  {
   "cell_type": "code",
   "execution_count": 14,
   "id": "d24498b2",
   "metadata": {},
   "outputs": [
    {
     "data": {
      "text/plain": [
       "[0.18181818181818182,\n",
       " 0,\n",
       " 4.583333333333333,\n",
       " -20.625,\n",
       " 41.25,\n",
       " 1120.625,\n",
       " -165.0,\n",
       " 866.25,\n",
       " -1925.0,\n",
       " 1711.875,\n",
       " -155.83333333333337,\n",
       " 841.0416666666666,\n",
       " -61.875,\n",
       " 20.625]"
      ]
     },
     "execution_count": 14,
     "metadata": {},
     "output_type": "execute_result"
    }
   ],
   "source": [
    "# Численые коэффициенты из формул выше\n",
    "A = comb(11, 2) / 4 / 3\n",
    "B = comb(11, 3) * 3 / 4 / 3 / 2\n",
    "C = comb(11, 4) * 3 / 4  * 2 / 3 / 2\n",
    "\n",
    "coefficients = [2 / 11, \n",
    "                0, \n",
    "                A, \n",
    "                -9 * A + B, \n",
    "                36 * A - 10 * B + C,\n",
    "                -84 * A + 45 * B + 7 * C,\n",
    "                126 * A - 120 * B + 21 * C,\n",
    "                -126 * A + 210 * B - 35 * C,\n",
    "                84 * A - 252 * B + 35 * C,\n",
    "                -36 * A + 175 * B - 21 * C,\n",
    "                2 * A - 36 * B + 7 * C,\n",
    "                - A + 45 * B - C,\n",
    "                - 3 * B,\n",
    "                B]\n",
    "coefficients"
   ]
  },
  {
   "cell_type": "code",
   "execution_count": 15,
   "id": "7e0f38fa",
   "metadata": {},
   "outputs": [
    {
     "data": {
      "text/plain": [
       "array([-0.4712443 -1.51399778j, -0.4712443 +1.51399778j,\n",
       "       -0.36385005-0.67526086j, -0.36385005+0.67526086j,\n",
       "       -0.22972781+0.j        , -0.0434869 -0.13533817j,\n",
       "       -0.0434869 +0.13533817j,  0.14383191-0.11548524j,\n",
       "        0.14383191+0.11548524j,  0.84224785-0.5105296j ,\n",
       "        0.84224785+0.5105296j ,  1.50736539-6.05163396j,\n",
       "        1.50736539+6.05163396j])"
      ]
     },
     "execution_count": 15,
     "metadata": {},
     "output_type": "execute_result"
    }
   ],
   "source": [
    "roots = poly.polyroots(coefficients)\n",
    "roots"
   ]
  },
  {
   "cell_type": "markdown",
   "id": "8732f024",
   "metadata": {},
   "source": [
    "## 2.2 Рассчитайте вероятности получения одного, двух, трех, всех четырех героев, а также того, что ни одного героя не будет получено при покупке 15 контейнеров.\n",
    "\n",
    "### Решение (аналитическое)"
   ]
  },
  {
   "cell_type": "markdown",
   "id": "437b491c",
   "metadata": {},
   "source": [
    "Допустим в предыдущем задании я вычислил оптимальную вероятность получения категории героев, и она равна $p_h$. Т.к. теперь нам не важно какой герой вытаскивается, можно посчитать все вероятности по биноминалньому закону с параметрами $m = 15$ $n = \\mbox{от 0 до 4}$, $p = p_h$ и $q = 1 - p_h$:\n",
    "1. Вероятности получения одного героя:\n",
    "$$\n",
    "    P(1) = C^1_{15}p_h(1- p_h)^{14}\n",
    "$$\n",
    "2. Вероятности получения двух героев:\n",
    "$$\n",
    "    P(2) = C^2_{15}p_h^2(1- p_h)^{13}\n",
    "$$\n",
    "3. Вероятности получения трех героев:\n",
    "$$\n",
    "    P(3) = C^3_{15}p_h^3(1- p_h)^{12}\n",
    "$$\n",
    "3. Вероятности получения четырех героев:\n",
    "$$\n",
    "    P(4) = C^4_{15}p_h^4(1- p_h)^{11}\n",
    "$$\n",
    "4. Вероятность, что ни одного героя не будет получено\n",
    "$$\n",
    "    P(0) = C^0_{15}(1- p_h)^{15} = (1- p_h)^{15}\n",
    "$$"
   ]
  }
 ],
 "metadata": {
  "kernelspec": {
   "display_name": "Python 3 (ipykernel)",
   "language": "python",
   "name": "python3"
  },
  "language_info": {
   "codemirror_mode": {
    "name": "ipython",
    "version": 3
   },
   "file_extension": ".py",
   "mimetype": "text/x-python",
   "name": "python",
   "nbconvert_exporter": "python",
   "pygments_lexer": "ipython3",
   "version": "3.9.12"
  }
 },
 "nbformat": 4,
 "nbformat_minor": 5
}
